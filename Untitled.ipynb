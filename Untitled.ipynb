{
 "cells": [
  {
   "cell_type": "code",
   "execution_count": 51,
   "metadata": {},
   "outputs": [],
   "source": [
    "from src.data_prep import read_data\n",
    "import src.data_prep\n",
    "import pandas as pd\n",
    "import numpy as np"
   ]
  },
  {
   "cell_type": "code",
   "execution_count": 5,
   "metadata": {},
   "outputs": [],
   "source": [
    "seq = read_data(\"amino-acid-sequences/P10085.fasta\")"
   ]
  },
  {
   "cell_type": "code",
   "execution_count": 6,
   "metadata": {},
   "outputs": [],
   "source": [
    "amino_acid_code = [\"A\",\"R\",\"N\",\"D\",\"C\",\"E\",\"Q\",\"G\",\"H\",\"I\",\"L\",\"K\",\"M\",\"F\",\"P\",\"S\",\"T\",\"W\",\"Y\",\"V\"]"
   ]
  },
  {
   "cell_type": "code",
   "execution_count": 7,
   "metadata": {},
   "outputs": [],
   "source": [
    "f = open(\"BLOSUM62.txt\", \"r\")\n",
    "blosum_raw = f.readlines()[6:]"
   ]
  },
  {
   "cell_type": "code",
   "execution_count": 8,
   "metadata": {},
   "outputs": [],
   "source": [
    "temp = []\n",
    "\n",
    "for x in blosum_raw:\n",
    "    l = x.strip().split()\n",
    "    temp.append(l)"
   ]
  },
  {
   "cell_type": "code",
   "execution_count": 9,
   "metadata": {},
   "outputs": [],
   "source": [
    "blosum_processed = []\n",
    "for x in temp[1:]:\n",
    "    blosum_processed.append(x[1:])"
   ]
  },
  {
   "cell_type": "code",
   "execution_count": 10,
   "metadata": {},
   "outputs": [
    {
     "data": {
      "text/plain": [
       "['A',\n",
       " 'R',\n",
       " 'N',\n",
       " 'D',\n",
       " 'C',\n",
       " 'Q',\n",
       " 'E',\n",
       " 'G',\n",
       " 'H',\n",
       " 'I',\n",
       " 'L',\n",
       " 'K',\n",
       " 'M',\n",
       " 'F',\n",
       " 'P',\n",
       " 'S',\n",
       " 'T',\n",
       " 'W',\n",
       " 'Y',\n",
       " 'V']"
      ]
     },
     "execution_count": 10,
     "metadata": {},
     "output_type": "execute_result"
    }
   ],
   "source": [
    "temp[0][:20]"
   ]
  },
  {
   "cell_type": "code",
   "execution_count": 11,
   "metadata": {},
   "outputs": [
    {
     "data": {
      "text/plain": [
       "['A',\n",
       " 'R',\n",
       " 'N',\n",
       " 'D',\n",
       " 'C',\n",
       " 'Q',\n",
       " 'E',\n",
       " 'G',\n",
       " 'H',\n",
       " 'I',\n",
       " 'L',\n",
       " 'K',\n",
       " 'M',\n",
       " 'F',\n",
       " 'P',\n",
       " 'S',\n",
       " 'T',\n",
       " 'W',\n",
       " 'Y',\n",
       " 'V',\n",
       " 'B',\n",
       " 'Z',\n",
       " 'X',\n",
       " '*']"
      ]
     },
     "execution_count": 11,
     "metadata": {},
     "output_type": "execute_result"
    }
   ],
   "source": [
    "temp[0]"
   ]
  },
  {
   "cell_type": "code",
   "execution_count": 12,
   "metadata": {},
   "outputs": [
    {
     "data": {
      "text/plain": [
       "24"
      ]
     },
     "execution_count": 12,
     "metadata": {},
     "output_type": "execute_result"
    }
   ],
   "source": [
    "len(blosum_processed)"
   ]
  },
  {
   "cell_type": "code",
   "execution_count": 30,
   "metadata": {},
   "outputs": [],
   "source": [
    "df = pd.DataFrame(blosum_processed, columns = temp[0], index = temp[0])\n",
    "df = df.apply(pd.to_numeric)"
   ]
  },
  {
   "cell_type": "code",
   "execution_count": 31,
   "metadata": {},
   "outputs": [],
   "source": [
    "BLOSUM = df"
   ]
  },
  {
   "cell_type": "code",
   "execution_count": 47,
   "metadata": {},
   "outputs": [
    {
     "data": {
      "text/plain": [
       "2"
      ]
     },
     "execution_count": 47,
     "metadata": {},
     "output_type": "execute_result"
    }
   ],
   "source": [
    "df[\"K\"][\"R\"]"
   ]
  },
  {
   "cell_type": "code",
   "execution_count": 34,
   "metadata": {},
   "outputs": [
    {
     "data": {
      "text/plain": [
       "0"
      ]
     },
     "execution_count": 34,
     "metadata": {},
     "output_type": "execute_result"
    }
   ],
   "source": [
    "df[\"E\"][\"N\"]"
   ]
  },
  {
   "cell_type": "code",
   "execution_count": 40,
   "metadata": {},
   "outputs": [
    {
     "data": {
      "text/plain": [
       "0"
      ]
     },
     "execution_count": 40,
     "metadata": {},
     "output_type": "execute_result"
    }
   ],
   "source": [
    "df[\"V\"][\"A\"]"
   ]
  },
  {
   "cell_type": "code",
   "execution_count": 41,
   "metadata": {},
   "outputs": [
    {
     "data": {
      "text/plain": [
       "-3"
      ]
     },
     "execution_count": 41,
     "metadata": {},
     "output_type": "execute_result"
    }
   ],
   "source": [
    "df[\"N\"][\"L\"]"
   ]
  },
  {
   "cell_type": "code",
   "execution_count": 124,
   "metadata": {},
   "outputs": [],
   "source": [
    "def score(V, A, B, i, j):\n",
    "    opt = [0, V[i-1][j]-4, V[i][j-1]-4, V[i-1][j-1]+BLOSUM[A[i-1]][B[j-1]]]\n",
    "    print(\"blosum score:\",BLOSUM[A[i-1]][B[j-1]])\n",
    "    print(opt)\n",
    "    return max(opt)\n",
    "    "
   ]
  },
  {
   "cell_type": "code",
   "execution_count": 135,
   "metadata": {},
   "outputs": [],
   "source": [
    "B = [\"K\", \"N\", \"I\", \"E\", \"V\", \"I\", \"L\"]\n",
    "A = [\"K\", \"E\", \"V\", \"L\", \"A\", \"R\"]"
   ]
  },
  {
   "cell_type": "code",
   "execution_count": 136,
   "metadata": {},
   "outputs": [],
   "source": [
    "V = np.zeros((len(A)+1,len(B)+1))"
   ]
  },
  {
   "cell_type": "code",
   "execution_count": 137,
   "metadata": {},
   "outputs": [
    {
     "data": {
      "text/plain": [
       "array([[0., 0., 0., 0., 0., 0., 0., 0.],\n",
       "       [0., 0., 0., 0., 0., 0., 0., 0.],\n",
       "       [0., 0., 0., 0., 0., 0., 0., 0.],\n",
       "       [0., 0., 0., 0., 0., 0., 0., 0.],\n",
       "       [0., 0., 0., 0., 0., 0., 0., 0.],\n",
       "       [0., 0., 0., 0., 0., 0., 0., 0.],\n",
       "       [0., 0., 0., 0., 0., 0., 0., 0.]])"
      ]
     },
     "execution_count": 137,
     "metadata": {},
     "output_type": "execute_result"
    }
   ],
   "source": [
    "V"
   ]
  },
  {
   "cell_type": "code",
   "execution_count": 138,
   "metadata": {},
   "outputs": [
    {
     "name": "stdout",
     "output_type": "stream",
     "text": [
      "1 1\n",
      "blosum score: 5\n",
      "[0, -4.0, -4.0, 5.0]\n",
      "1 2\n",
      "blosum score: 0\n",
      "[0, -4.0, 1.0, 0.0]\n",
      "1 3\n",
      "blosum score: -3\n",
      "[0, -4.0, -3.0, -3.0]\n",
      "1 4\n",
      "blosum score: 1\n",
      "[0, -4.0, -4.0, 1.0]\n",
      "1 5\n",
      "blosum score: -2\n",
      "[0, -4.0, -3.0, -2.0]\n",
      "1 6\n",
      "blosum score: -3\n",
      "[0, -4.0, -4.0, -3.0]\n",
      "1 7\n",
      "blosum score: -2\n",
      "[0, -4.0, -4.0, -2.0]\n",
      "2 1\n",
      "blosum score: 1\n",
      "[0, 1.0, -4.0, 1.0]\n",
      "2 2\n",
      "blosum score: 0\n",
      "[0, -3.0, -3.0, 5.0]\n",
      "2 3\n",
      "blosum score: -3\n",
      "[0, -4.0, 1.0, -2.0]\n",
      "2 4\n",
      "blosum score: 5\n",
      "[0, -3.0, -3.0, 5.0]\n",
      "2 5\n",
      "blosum score: -2\n",
      "[0, -4.0, 1.0, -1.0]\n",
      "2 6\n",
      "blosum score: -3\n",
      "[0, -4.0, -3.0, -3.0]\n",
      "2 7\n",
      "blosum score: -3\n",
      "[0, -4.0, -4.0, -3.0]\n",
      "3 1\n",
      "blosum score: -2\n",
      "[0, -3.0, -4.0, -2.0]\n",
      "3 2\n",
      "blosum score: -3\n",
      "[0, 1.0, -4.0, -2.0]\n",
      "3 3\n",
      "blosum score: 3\n",
      "[0, -3.0, -3.0, 8.0]\n",
      "3 4\n",
      "blosum score: -2\n",
      "[0, 1.0, 4.0, -1.0]\n",
      "3 5\n",
      "blosum score: 4\n",
      "[0, -3.0, 0.0, 9.0]\n",
      "3 6\n",
      "blosum score: 3\n",
      "[0, -4.0, 5.0, 4.0]\n",
      "3 7\n",
      "blosum score: 1\n",
      "[0, -4.0, 1.0, 1.0]\n",
      "4 1\n",
      "blosum score: -2\n",
      "[0, -4.0, -4.0, -2.0]\n",
      "4 2\n",
      "blosum score: -3\n",
      "[0, -3.0, -4.0, -3.0]\n",
      "4 3\n",
      "blosum score: 2\n",
      "[0, 4.0, -4.0, 3.0]\n",
      "4 4\n",
      "blosum score: -3\n",
      "[0, 0.0, 0.0, 5.0]\n",
      "4 5\n",
      "blosum score: 1\n",
      "[0, 5.0, 1.0, 5.0]\n",
      "4 6\n",
      "blosum score: 2\n",
      "[0, 1.0, 1.0, 11.0]\n",
      "4 7\n",
      "blosum score: 4\n",
      "[0, -3.0, 7.0, 9.0]\n",
      "5 1\n",
      "blosum score: -1\n",
      "[0, -4.0, -4.0, -1.0]\n",
      "5 2\n",
      "blosum score: -2\n",
      "[0, -4.0, -4.0, -2.0]\n",
      "5 3\n",
      "blosum score: -1\n",
      "[0, 0.0, -4.0, -1.0]\n",
      "5 4\n",
      "blosum score: -1\n",
      "[0, 1.0, -4.0, 3.0]\n",
      "5 5\n",
      "blosum score: 0\n",
      "[0, 1.0, -1.0, 5.0]\n",
      "5 6\n",
      "blosum score: -1\n",
      "[0, 7.0, 1.0, 4.0]\n",
      "5 7\n",
      "blosum score: -1\n",
      "[0, 5.0, 3.0, 10.0]\n",
      "6 1\n",
      "blosum score: 2\n",
      "[0, -4.0, -4.0, 2.0]\n",
      "6 2\n",
      "blosum score: 0\n",
      "[0, -4.0, -2.0, 0.0]\n",
      "6 3\n",
      "blosum score: -3\n",
      "[0, -4.0, -4.0, -3.0]\n",
      "6 4\n",
      "blosum score: 0\n",
      "[0, -1.0, -4.0, 0.0]\n",
      "6 5\n",
      "blosum score: -3\n",
      "[0, 1.0, -4.0, 0.0]\n",
      "6 6\n",
      "blosum score: -3\n",
      "[0, 3.0, -3.0, 2.0]\n",
      "6 7\n",
      "blosum score: -2\n",
      "[0, 6.0, -1.0, 5.0]\n"
     ]
    }
   ],
   "source": [
    "for i in range(1,len(A)+1):\n",
    "    for j in range(1,len(B)+1):\n",
    "        print(i,j)\n",
    "        V[i][j] = score(V, A, B, i, j)"
   ]
  },
  {
   "cell_type": "code",
   "execution_count": 139,
   "metadata": {},
   "outputs": [
    {
     "name": "stdout",
     "output_type": "stream",
     "text": [
      "1 1\n",
      "blosum score: 5\n",
      "[0, -4.0, -4.0, 5.0]\n",
      "1 2\n",
      "blosum score: 0\n",
      "[0, -4.0, 1.0, 0.0]\n",
      "1 3\n",
      "blosum score: -3\n",
      "[0, -4.0, -3.0, -3.0]\n",
      "1 4\n",
      "blosum score: 1\n",
      "[0, -4.0, -4.0, 1.0]\n",
      "1 5\n",
      "blosum score: -2\n",
      "[0, -4.0, -3.0, -2.0]\n",
      "1 6\n",
      "blosum score: -3\n",
      "[0, -4.0, -4.0, -3.0]\n",
      "1 7\n",
      "blosum score: -2\n",
      "[0, -4.0, -4.0, -2.0]\n",
      "2 1\n",
      "blosum score: 1\n",
      "[0, 1.0, -4.0, 1.0]\n",
      "2 2\n",
      "blosum score: 0\n",
      "[0, -3.0, -3.0, 5.0]\n",
      "2 3\n",
      "blosum score: -3\n",
      "[0, -4.0, 1.0, -2.0]\n",
      "2 4\n",
      "blosum score: 5\n",
      "[0, -3.0, -3.0, 5.0]\n",
      "2 5\n",
      "blosum score: -2\n",
      "[0, -4.0, 1.0, -1.0]\n",
      "2 6\n",
      "blosum score: -3\n",
      "[0, -4.0, -3.0, -3.0]\n",
      "2 7\n",
      "blosum score: -3\n",
      "[0, -4.0, -4.0, -3.0]\n",
      "3 1\n",
      "blosum score: -2\n",
      "[0, -3.0, -4.0, -2.0]\n",
      "3 2\n",
      "blosum score: -3\n",
      "[0, 1.0, -4.0, -2.0]\n",
      "3 3\n",
      "blosum score: 3\n",
      "[0, -3.0, -3.0, 8.0]\n",
      "3 4\n",
      "blosum score: -2\n",
      "[0, 1.0, 4.0, -1.0]\n",
      "3 5\n",
      "blosum score: 4\n",
      "[0, -3.0, 0.0, 9.0]\n",
      "3 6\n",
      "blosum score: 3\n",
      "[0, -4.0, 5.0, 4.0]\n",
      "3 7\n",
      "blosum score: 1\n",
      "[0, -4.0, 1.0, 1.0]\n",
      "4 1\n",
      "blosum score: -2\n",
      "[0, -4.0, -4.0, -2.0]\n",
      "4 2\n",
      "blosum score: -3\n",
      "[0, -3.0, -4.0, -3.0]\n",
      "4 3\n",
      "blosum score: 2\n",
      "[0, 4.0, -4.0, 3.0]\n",
      "4 4\n",
      "blosum score: -3\n",
      "[0, 0.0, 0.0, 5.0]\n",
      "4 5\n",
      "blosum score: 1\n",
      "[0, 5.0, 1.0, 5.0]\n",
      "4 6\n",
      "blosum score: 2\n",
      "[0, 1.0, 1.0, 11.0]\n",
      "4 7\n",
      "blosum score: 4\n",
      "[0, -3.0, 7.0, 9.0]\n",
      "5 1\n",
      "blosum score: -1\n",
      "[0, -4.0, -4.0, -1.0]\n",
      "5 2\n",
      "blosum score: -2\n",
      "[0, -4.0, -4.0, -2.0]\n",
      "5 3\n",
      "blosum score: -1\n",
      "[0, 0.0, -4.0, -1.0]\n",
      "5 4\n",
      "blosum score: -1\n",
      "[0, 1.0, -4.0, 3.0]\n",
      "5 5\n",
      "blosum score: 0\n",
      "[0, 1.0, -1.0, 5.0]\n",
      "5 6\n",
      "blosum score: -1\n",
      "[0, 7.0, 1.0, 4.0]\n",
      "5 7\n",
      "blosum score: -1\n",
      "[0, 5.0, 3.0, 10.0]\n",
      "6 1\n",
      "blosum score: 2\n",
      "[0, -4.0, -4.0, 2.0]\n",
      "6 2\n",
      "blosum score: 0\n",
      "[0, -4.0, -2.0, 0.0]\n",
      "6 3\n",
      "blosum score: -3\n",
      "[0, -4.0, -4.0, -3.0]\n",
      "6 4\n",
      "blosum score: 0\n",
      "[0, -1.0, -4.0, 0.0]\n",
      "6 5\n",
      "blosum score: -3\n",
      "[0, 1.0, -4.0, 0.0]\n",
      "6 6\n",
      "blosum score: -3\n",
      "[0, 3.0, -3.0, 2.0]\n",
      "6 7\n",
      "blosum score: -2\n",
      "[0, 6.0, -1.0, 5.0]\n"
     ]
    }
   ],
   "source": [
    "for i in range(1,len(A)+1):\n",
    "    for j in range(1,len(B)+1):\n",
    "        print(i,j)\n",
    "        V[i][j] = score(V, A, B, i, j)"
   ]
  },
  {
   "cell_type": "code",
   "execution_count": 140,
   "metadata": {},
   "outputs": [
    {
     "data": {
      "text/plain": [
       "array([[ 0.,  0.,  0.,  0.,  0.,  0.,  0.,  0.],\n",
       "       [ 0.,  5.,  1.,  0.,  1.,  0.,  0.,  0.],\n",
       "       [ 0.,  1.,  5.,  1.,  5.,  1.,  0.,  0.],\n",
       "       [ 0.,  0.,  1.,  8.,  4.,  9.,  5.,  1.],\n",
       "       [ 0.,  0.,  0.,  4.,  5.,  5., 11.,  9.],\n",
       "       [ 0.,  0.,  0.,  0.,  3.,  5.,  7., 10.],\n",
       "       [ 0.,  2.,  0.,  0.,  0.,  1.,  3.,  6.]])"
      ]
     },
     "execution_count": 140,
     "metadata": {},
     "output_type": "execute_result"
    }
   ],
   "source": [
    "V"
   ]
  },
  {
   "cell_type": "code",
   "execution_count": 141,
   "metadata": {},
   "outputs": [
    {
     "data": {
      "text/plain": [
       "0"
      ]
     },
     "execution_count": 141,
     "metadata": {},
     "output_type": "execute_result"
    }
   ],
   "source": [
    "df[\"E\"][\"N\"]"
   ]
  },
  {
   "cell_type": "code",
   "execution_count": null,
   "metadata": {},
   "outputs": [],
   "source": []
  }
 ],
 "metadata": {
  "kernelspec": {
   "display_name": "Python 3",
   "language": "python",
   "name": "python3"
  },
  "language_info": {
   "codemirror_mode": {
    "name": "ipython",
    "version": 3
   },
   "file_extension": ".py",
   "mimetype": "text/x-python",
   "name": "python",
   "nbconvert_exporter": "python",
   "pygments_lexer": "ipython3",
   "version": "3.7.6"
  }
 },
 "nbformat": 4,
 "nbformat_minor": 4
}
